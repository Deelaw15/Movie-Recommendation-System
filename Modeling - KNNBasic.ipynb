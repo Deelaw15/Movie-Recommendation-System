{
 "cells": [
  {
   "cell_type": "markdown",
   "id": "2a76c836",
   "metadata": {},
   "source": [
    "## Data Modelling - KNNBasic"
   ]
  },
  {
   "cell_type": "markdown",
   "id": "3ef77d6d",
   "metadata": {},
   "source": [
    "### Collaborative Filetering (CF) - ~Behaiour Based~"
   ]
  },
  {
   "cell_type": "code",
   "execution_count": null,
   "id": "cf2e444c",
   "metadata": {},
   "outputs": [],
   "source": [
    "from surprise import Dataset, Reader, KNNBasic\n",
    "from surprise.model_selection import train_test_split\n",
    "from surprise import accuracy\n",
    "from surprise.model_selection import cross_validate\n",
    "import pandas as pd\n"
   ]
  },
  {
   "cell_type": "code",
   "execution_count": 2,
   "id": "168d38ed",
   "metadata": {},
   "outputs": [
    {
     "data": {
      "text/html": [
       "<div>\n",
       "<style scoped>\n",
       "    .dataframe tbody tr th:only-of-type {\n",
       "        vertical-align: middle;\n",
       "    }\n",
       "\n",
       "    .dataframe tbody tr th {\n",
       "        vertical-align: top;\n",
       "    }\n",
       "\n",
       "    .dataframe thead th {\n",
       "        text-align: right;\n",
       "    }\n",
       "</style>\n",
       "<table border=\"1\" class=\"dataframe\">\n",
       "  <thead>\n",
       "    <tr style=\"text-align: right;\">\n",
       "      <th></th>\n",
       "      <th>movieId</th>\n",
       "      <th>title</th>\n",
       "      <th>genres</th>\n",
       "      <th>userId</th>\n",
       "      <th>rating</th>\n",
       "      <th>dt</th>\n",
       "      <th>year</th>\n",
       "      <th>(no genres listed)</th>\n",
       "      <th>Action</th>\n",
       "      <th>Adventure</th>\n",
       "      <th>...</th>\n",
       "      <th>Romance</th>\n",
       "      <th>Sci-Fi</th>\n",
       "      <th>Thriller</th>\n",
       "      <th>War</th>\n",
       "      <th>Western</th>\n",
       "      <th>avg_movie_rating</th>\n",
       "      <th>rating_count</th>\n",
       "      <th>user_avg_rating</th>\n",
       "      <th>user_rating_count</th>\n",
       "      <th>user_std_rating</th>\n",
       "    </tr>\n",
       "  </thead>\n",
       "  <tbody>\n",
       "    <tr>\n",
       "      <th>0</th>\n",
       "      <td>804</td>\n",
       "      <td>She's the One</td>\n",
       "      <td>['Comedy', 'Romance']</td>\n",
       "      <td>1</td>\n",
       "      <td>4.0</td>\n",
       "      <td>2000-07-30 18:08:19</td>\n",
       "      <td>1996.0</td>\n",
       "      <td>0</td>\n",
       "      <td>0</td>\n",
       "      <td>0</td>\n",
       "      <td>...</td>\n",
       "      <td>1</td>\n",
       "      <td>0</td>\n",
       "      <td>0</td>\n",
       "      <td>0</td>\n",
       "      <td>0</td>\n",
       "      <td>3.250000</td>\n",
       "      <td>8</td>\n",
       "      <td>4.367965</td>\n",
       "      <td>231</td>\n",
       "      <td>0.80142</td>\n",
       "    </tr>\n",
       "    <tr>\n",
       "      <th>1</th>\n",
       "      <td>1210</td>\n",
       "      <td>Star Wars: Episode VI - Return of the Jedi</td>\n",
       "      <td>['Action', 'Adventure', 'Sci-Fi']</td>\n",
       "      <td>1</td>\n",
       "      <td>5.0</td>\n",
       "      <td>2000-07-30 18:08:19</td>\n",
       "      <td>1983.0</td>\n",
       "      <td>0</td>\n",
       "      <td>1</td>\n",
       "      <td>1</td>\n",
       "      <td>...</td>\n",
       "      <td>0</td>\n",
       "      <td>1</td>\n",
       "      <td>0</td>\n",
       "      <td>0</td>\n",
       "      <td>0</td>\n",
       "      <td>4.137755</td>\n",
       "      <td>196</td>\n",
       "      <td>4.367965</td>\n",
       "      <td>231</td>\n",
       "      <td>0.80142</td>\n",
       "    </tr>\n",
       "    <tr>\n",
       "      <th>2</th>\n",
       "      <td>2018</td>\n",
       "      <td>Bambi</td>\n",
       "      <td>['Animation', 'Children', 'Drama']</td>\n",
       "      <td>1</td>\n",
       "      <td>5.0</td>\n",
       "      <td>2000-07-30 18:08:43</td>\n",
       "      <td>1942.0</td>\n",
       "      <td>0</td>\n",
       "      <td>0</td>\n",
       "      <td>0</td>\n",
       "      <td>...</td>\n",
       "      <td>0</td>\n",
       "      <td>0</td>\n",
       "      <td>0</td>\n",
       "      <td>0</td>\n",
       "      <td>0</td>\n",
       "      <td>3.361111</td>\n",
       "      <td>36</td>\n",
       "      <td>4.367965</td>\n",
       "      <td>231</td>\n",
       "      <td>0.80142</td>\n",
       "    </tr>\n",
       "    <tr>\n",
       "      <th>3</th>\n",
       "      <td>2628</td>\n",
       "      <td>Star Wars: Episode I - The Phantom Menace</td>\n",
       "      <td>['Action', 'Adventure', 'Sci-Fi']</td>\n",
       "      <td>1</td>\n",
       "      <td>4.0</td>\n",
       "      <td>2000-07-30 18:08:43</td>\n",
       "      <td>1999.0</td>\n",
       "      <td>0</td>\n",
       "      <td>1</td>\n",
       "      <td>1</td>\n",
       "      <td>...</td>\n",
       "      <td>0</td>\n",
       "      <td>1</td>\n",
       "      <td>0</td>\n",
       "      <td>0</td>\n",
       "      <td>0</td>\n",
       "      <td>3.086957</td>\n",
       "      <td>138</td>\n",
       "      <td>4.367965</td>\n",
       "      <td>231</td>\n",
       "      <td>0.80142</td>\n",
       "    </tr>\n",
       "    <tr>\n",
       "      <th>4</th>\n",
       "      <td>2826</td>\n",
       "      <td>13th Warrior, The</td>\n",
       "      <td>['Action', 'Adventure', 'Fantasy']</td>\n",
       "      <td>1</td>\n",
       "      <td>4.0</td>\n",
       "      <td>2000-07-30 18:08:43</td>\n",
       "      <td>1999.0</td>\n",
       "      <td>0</td>\n",
       "      <td>1</td>\n",
       "      <td>1</td>\n",
       "      <td>...</td>\n",
       "      <td>0</td>\n",
       "      <td>0</td>\n",
       "      <td>0</td>\n",
       "      <td>0</td>\n",
       "      <td>0</td>\n",
       "      <td>2.903846</td>\n",
       "      <td>26</td>\n",
       "      <td>4.367965</td>\n",
       "      <td>231</td>\n",
       "      <td>0.80142</td>\n",
       "    </tr>\n",
       "  </tbody>\n",
       "</table>\n",
       "<p>5 rows × 32 columns</p>\n",
       "</div>"
      ],
      "text/plain": [
       "   movieId                                       title  \\\n",
       "0      804                               She's the One   \n",
       "1     1210  Star Wars: Episode VI - Return of the Jedi   \n",
       "2     2018                                       Bambi   \n",
       "3     2628   Star Wars: Episode I - The Phantom Menace   \n",
       "4     2826                           13th Warrior, The   \n",
       "\n",
       "                               genres  userId  rating                   dt  \\\n",
       "0               ['Comedy', 'Romance']       1     4.0  2000-07-30 18:08:19   \n",
       "1   ['Action', 'Adventure', 'Sci-Fi']       1     5.0  2000-07-30 18:08:19   \n",
       "2  ['Animation', 'Children', 'Drama']       1     5.0  2000-07-30 18:08:43   \n",
       "3   ['Action', 'Adventure', 'Sci-Fi']       1     4.0  2000-07-30 18:08:43   \n",
       "4  ['Action', 'Adventure', 'Fantasy']       1     4.0  2000-07-30 18:08:43   \n",
       "\n",
       "     year  (no genres listed)  Action  Adventure  ...  Romance  Sci-Fi  \\\n",
       "0  1996.0                   0       0          0  ...        1       0   \n",
       "1  1983.0                   0       1          1  ...        0       1   \n",
       "2  1942.0                   0       0          0  ...        0       0   \n",
       "3  1999.0                   0       1          1  ...        0       1   \n",
       "4  1999.0                   0       1          1  ...        0       0   \n",
       "\n",
       "   Thriller  War  Western  avg_movie_rating  rating_count  user_avg_rating  \\\n",
       "0         0    0        0          3.250000             8         4.367965   \n",
       "1         0    0        0          4.137755           196         4.367965   \n",
       "2         0    0        0          3.361111            36         4.367965   \n",
       "3         0    0        0          3.086957           138         4.367965   \n",
       "4         0    0        0          2.903846            26         4.367965   \n",
       "\n",
       "   user_rating_count  user_std_rating  \n",
       "0                231          0.80142  \n",
       "1                231          0.80142  \n",
       "2                231          0.80142  \n",
       "3                231          0.80142  \n",
       "4                231          0.80142  \n",
       "\n",
       "[5 rows x 32 columns]"
      ]
     },
     "execution_count": 2,
     "metadata": {},
     "output_type": "execute_result"
    }
   ],
   "source": [
    "train = pd.read_csv('train_movies_rating.csv')\n",
    "train.head()"
   ]
  },
  {
   "cell_type": "markdown",
   "id": "cb302605",
   "metadata": {},
   "source": [
    "### Using KNNBasic"
   ]
  },
  {
   "cell_type": "code",
   "execution_count": 3,
   "id": "e25b94e3",
   "metadata": {},
   "outputs": [],
   "source": [
    "df = train[['userId', 'movieId', 'rating']]"
   ]
  },
  {
   "cell_type": "code",
   "execution_count": 4,
   "id": "76ca2994",
   "metadata": {},
   "outputs": [
    {
     "data": {
      "text/html": [
       "<div>\n",
       "<style scoped>\n",
       "    .dataframe tbody tr th:only-of-type {\n",
       "        vertical-align: middle;\n",
       "    }\n",
       "\n",
       "    .dataframe tbody tr th {\n",
       "        vertical-align: top;\n",
       "    }\n",
       "\n",
       "    .dataframe thead th {\n",
       "        text-align: right;\n",
       "    }\n",
       "</style>\n",
       "<table border=\"1\" class=\"dataframe\">\n",
       "  <thead>\n",
       "    <tr style=\"text-align: right;\">\n",
       "      <th></th>\n",
       "      <th>userId</th>\n",
       "      <th>movieId</th>\n",
       "      <th>rating</th>\n",
       "    </tr>\n",
       "  </thead>\n",
       "  <tbody>\n",
       "    <tr>\n",
       "      <th>0</th>\n",
       "      <td>1</td>\n",
       "      <td>804</td>\n",
       "      <td>4.0</td>\n",
       "    </tr>\n",
       "    <tr>\n",
       "      <th>1</th>\n",
       "      <td>1</td>\n",
       "      <td>1210</td>\n",
       "      <td>5.0</td>\n",
       "    </tr>\n",
       "    <tr>\n",
       "      <th>2</th>\n",
       "      <td>1</td>\n",
       "      <td>2018</td>\n",
       "      <td>5.0</td>\n",
       "    </tr>\n",
       "    <tr>\n",
       "      <th>3</th>\n",
       "      <td>1</td>\n",
       "      <td>2628</td>\n",
       "      <td>4.0</td>\n",
       "    </tr>\n",
       "    <tr>\n",
       "      <th>4</th>\n",
       "      <td>1</td>\n",
       "      <td>2826</td>\n",
       "      <td>4.0</td>\n",
       "    </tr>\n",
       "  </tbody>\n",
       "</table>\n",
       "</div>"
      ],
      "text/plain": [
       "   userId  movieId  rating\n",
       "0       1      804     4.0\n",
       "1       1     1210     5.0\n",
       "2       1     2018     5.0\n",
       "3       1     2628     4.0\n",
       "4       1     2826     4.0"
      ]
     },
     "execution_count": 4,
     "metadata": {},
     "output_type": "execute_result"
    }
   ],
   "source": [
    "df.head()"
   ]
  },
  {
   "cell_type": "code",
   "execution_count": 5,
   "id": "b2b3830f",
   "metadata": {},
   "outputs": [],
   "source": [
    "# Define Reader (to tell Surprise how to interpret the scale)\n",
    "reader = Reader(rating_scale=(0.5, 5.0))"
   ]
  },
  {
   "cell_type": "code",
   "execution_count": 6,
   "id": "1dafb24c",
   "metadata": {},
   "outputs": [],
   "source": [
    "# Convert pandas DataFrame to Surprise dataset\n",
    "data = Dataset.load_from_df(df[['userId', 'movieId', 'rating']], reader)"
   ]
  },
  {
   "cell_type": "code",
   "execution_count": 7,
   "id": "b6dc9fa3",
   "metadata": {},
   "outputs": [],
   "source": [
    "# Split the data into training and testing sets KNNBasic\n",
    "trainset, testset = train_test_split(data, test_size=0.2, random_state=42)"
   ]
  },
  {
   "cell_type": "code",
   "execution_count": 8,
   "id": "46bf6b15",
   "metadata": {},
   "outputs": [
    {
     "name": "stdout",
     "output_type": "stream",
     "text": [
      "Computing the cosine similarity matrix...\n",
      "Done computing similarity matrix.\n"
     ]
    },
    {
     "data": {
      "text/plain": [
       "<surprise.prediction_algorithms.knns.KNNBasic at 0x250e03b2c50>"
      ]
     },
     "execution_count": 8,
     "metadata": {},
     "output_type": "execute_result"
    }
   ],
   "source": [
    "# Using User-based Collaborative Filtering\n",
    "sim_options = {\n",
    "    'name': 'cosine',  # can also try 'pearson'\n",
    "    'user_based': False  # True = user-based, False = item-based\n",
    "}\n",
    "\n",
    "model = KNNBasic(sim_options=sim_options)\n",
    "model.fit(trainset)\n"
   ]
  },
  {
   "cell_type": "code",
   "execution_count": 9,
   "id": "11a8d4d2",
   "metadata": {},
   "outputs": [
    {
     "name": "stdout",
     "output_type": "stream",
     "text": [
      "RMSE: 0.9799\n",
      "✅ Model evaluation complete. RMSE: 0.979853421872011\n"
     ]
    }
   ],
   "source": [
    "# Make predictions\n",
    "predictions = model.test(testset)\n",
    "\n",
    "# Compute RMSE\n",
    "rmse = accuracy.rmse(predictions)\n",
    "print(\"✅ Model evaluation complete. RMSE:\", rmse)\n"
   ]
  },
  {
   "cell_type": "code",
   "execution_count": null,
   "id": "74c3aada",
   "metadata": {},
   "outputs": [],
   "source": []
  }
 ],
 "metadata": {
  "kernelspec": {
   "display_name": ".venv",
   "language": "python",
   "name": "python3"
  },
  "language_info": {
   "codemirror_mode": {
    "name": "ipython",
    "version": 3
   },
   "file_extension": ".py",
   "mimetype": "text/x-python",
   "name": "python",
   "nbconvert_exporter": "python",
   "pygments_lexer": "ipython3",
   "version": "3.10.11"
  }
 },
 "nbformat": 4,
 "nbformat_minor": 5
}
